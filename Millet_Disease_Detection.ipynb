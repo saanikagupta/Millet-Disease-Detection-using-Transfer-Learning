{
  "nbformat": 4,
  "nbformat_minor": 0,
  "metadata": {
    "colab": {
      "name": "Millet Disease Detection",
      "provenance": [],
      "collapsed_sections": [],
      "toc_visible": true,
      "include_colab_link": true
    },
    "kernelspec": {
      "name": "python3",
      "display_name": "Python 3"
    },
    "accelerator": "GPU"
  },
  "cells": [
    {
      "cell_type": "markdown",
      "metadata": {
        "id": "view-in-github",
        "colab_type": "text"
      },
      "source": [
        "<a href=\"https://colab.research.google.com/github/saanikagupta/Millet-Disease-Detection-using-Transfer-Learning/blob/master/Millet_Disease_Detection.ipynb\" target=\"_parent\"><img src=\"https://colab.research.google.com/assets/colab-badge.svg\" alt=\"Open In Colab\"/></a>"
      ]
    },
    {
      "cell_type": "code",
      "metadata": {
        "id": "HWtI3bBHJC8A",
        "colab_type": "code",
        "colab": {}
      },
      "source": [
        "from keras import applications\n",
        "from keras.preprocessing.image import ImageDataGenerator\n",
        "from keras import optimizers\n",
        "from keras.models import Sequential, Model, load_model\n",
        "from keras.layers import Dropout, Flatten, Dense\n",
        "from keras.callbacks import ModelCheckpoint, EarlyStopping\n",
        "import tensorflow as tf\n",
        "import numpy as np\n",
        "from sklearn import metrics\n",
        "tf.logging.set_verbosity(tf.logging.ERROR)\n",
        "import os"
      ],
      "execution_count": 0,
      "outputs": []
    },
    {
      "cell_type": "code",
      "metadata": {
        "id": "segmiD_Z3qXA",
        "colab_type": "code",
        "colab": {}
      },
      "source": [
        "img_width, img_height = 224, 224\n",
        "nb_train_samples = 135\n",
        "nb_validation_samples = 35\n",
        "batch_size = 5\n",
        "epochs = 1"
      ],
      "execution_count": 0,
      "outputs": []
    },
    {
      "cell_type": "code",
      "metadata": {
        "id": "UKtm9lJC3qE_",
        "colab_type": "code",
        "outputId": "b3b89167-518e-4190-8e8e-76cec01e9cb7",
        "colab": {
          "base_uri": "https://localhost:8080/",
          "height": 121
        }
      },
      "source": [
        "from google.colab import drive\n",
        "drive.mount('/content/drive')"
      ],
      "execution_count": 0,
      "outputs": [
        {
          "output_type": "stream",
          "text": [
            "Go to this URL in a browser: https://accounts.google.com/o/oauth2/auth?client_id=947318989803-6bn6qk8qdgf4n4g3pfee6491hc0brc4i.apps.googleusercontent.com&redirect_uri=urn%3aietf%3awg%3aoauth%3a2.0%3aoob&response_type=code&scope=email%20https%3a%2f%2fwww.googleapis.com%2fauth%2fdocs.test%20https%3a%2f%2fwww.googleapis.com%2fauth%2fdrive%20https%3a%2f%2fwww.googleapis.com%2fauth%2fdrive.photos.readonly%20https%3a%2f%2fwww.googleapis.com%2fauth%2fpeopleapi.readonly\n",
            "\n",
            "Enter your authorization code:\n",
            "··········\n",
            "Mounted at /content/drive\n"
          ],
          "name": "stdout"
        }
      ]
    },
    {
      "cell_type": "code",
      "metadata": {
        "id": "qcAUWJE753LJ",
        "colab_type": "code",
        "outputId": "aa2896b2-4a28-410a-87cd-a9cfe9a37589",
        "colab": {
          "base_uri": "https://localhost:8080/",
          "height": 34
        }
      },
      "source": [
        "!pwd"
      ],
      "execution_count": 0,
      "outputs": [
        {
          "output_type": "stream",
          "text": [
            "/content\n"
          ],
          "name": "stdout"
        }
      ]
    },
    {
      "cell_type": "code",
      "metadata": {
        "id": "SNaLsH9o56kd",
        "colab_type": "code",
        "outputId": "d55ee680-ff24-4d8b-b7fe-fe71aa5919d3",
        "colab": {
          "base_uri": "https://localhost:8080/",
          "height": 34
        }
      },
      "source": [
        "import shutil\n",
        "shutil.move(\"drive/My Drive/plant-leaf.rar\", \"plant-leaf.rar\")\n",
        "get_ipython().system_raw(\"unrar x plant-leaf.rar\")\n",
        "shutil.move(\"plant-leaf.rar\", \"drive/My Drive/plant-leaf.rar\")"
      ],
      "execution_count": 0,
      "outputs": [
        {
          "output_type": "execute_result",
          "data": {
            "text/plain": [
              "'drive/My Drive/plant-leaf.rar'"
            ]
          },
          "metadata": {
            "tags": []
          },
          "execution_count": 6
        }
      ]
    },
    {
      "cell_type": "code",
      "metadata": {
        "id": "eUav9J9PEULh",
        "colab_type": "code",
        "colab": {}
      },
      "source": [
        "# get_ipython().system_raw(\"unrar x plant-leaf\")"
      ],
      "execution_count": 0,
      "outputs": []
    },
    {
      "cell_type": "code",
      "metadata": {
        "id": "Gt3o8GLIM_73",
        "colab_type": "code",
        "colab": {}
      },
      "source": [
        "train_data_dir = 'plant-leaf/train'\n",
        "test_data_dir = 'plant-leaf/test' "
      ],
      "execution_count": 0,
      "outputs": []
    },
    {
      "cell_type": "markdown",
      "metadata": {
        "id": "Te2sWjpL18Bm",
        "colab_type": "text"
      },
      "source": [
        "# VGG16"
      ]
    },
    {
      "cell_type": "code",
      "metadata": {
        "id": "WgZn-eII4YBE",
        "colab_type": "code",
        "colab": {}
      },
      "source": [
        "vgg16 = applications.VGG16(weights = \"imagenet\", include_top = False, input_shape = (img_width, img_height, 3))"
      ],
      "execution_count": 0,
      "outputs": []
    },
    {
      "cell_type": "code",
      "metadata": {
        "id": "falRYXjsJlnH",
        "colab_type": "code",
        "outputId": "fab7d50f-78b2-4b0a-fb7c-d43b4ce74e06",
        "colab": {
          "base_uri": "https://localhost:8080/",
          "height": 336
        }
      },
      "source": [
        "vgg16.layers"
      ],
      "execution_count": 0,
      "outputs": [
        {
          "output_type": "execute_result",
          "data": {
            "text/plain": [
              "[<keras.engine.input_layer.InputLayer at 0x7f0365be1da0>,\n",
              " <keras.layers.convolutional.Conv2D at 0x7f0365be1eb8>,\n",
              " <keras.layers.convolutional.Conv2D at 0x7f03b0180048>,\n",
              " <keras.layers.pooling.MaxPooling2D at 0x7f03b0108588>,\n",
              " <keras.layers.convolutional.Conv2D at 0x7f03b0184c50>,\n",
              " <keras.layers.convolutional.Conv2D at 0x7f03b0111748>,\n",
              " <keras.layers.pooling.MaxPooling2D at 0x7f03b01144a8>,\n",
              " <keras.layers.convolutional.Conv2D at 0x7f036493ec18>,\n",
              " <keras.layers.convolutional.Conv2D at 0x7f036493fcf8>,\n",
              " <keras.layers.convolutional.Conv2D at 0x7f0364943be0>,\n",
              " <keras.layers.pooling.MaxPooling2D at 0x7f0364a0c3c8>,\n",
              " <keras.layers.convolutional.Conv2D at 0x7f036494bb00>,\n",
              " <keras.layers.convolutional.Conv2D at 0x7f0364a18c18>,\n",
              " <keras.layers.convolutional.Conv2D at 0x7f0364a1ca90>,\n",
              " <keras.layers.pooling.MaxPooling2D at 0x7f0364a282e8>,\n",
              " <keras.layers.convolutional.Conv2D at 0x7f0364a1fa20>,\n",
              " <keras.layers.convolutional.Conv2D at 0x7f0364a34b38>,\n",
              " <keras.layers.convolutional.Conv2D at 0x7f0364a326d8>,\n",
              " <keras.layers.pooling.MaxPooling2D at 0x7f0364a4a1d0>]"
            ]
          },
          "metadata": {
            "tags": []
          },
          "execution_count": 25
        }
      ]
    },
    {
      "cell_type": "code",
      "metadata": {
        "id": "RcR2-i4fA-MK",
        "colab_type": "code",
        "colab": {}
      },
      "source": [
        "# !rm -rf test_aug"
      ],
      "execution_count": 0,
      "outputs": []
    },
    {
      "cell_type": "code",
      "metadata": {
        "id": "EDNM6BKzF07q",
        "colab_type": "code",
        "colab": {}
      },
      "source": [
        "# os.mkdir('saved')\n",
        "train_aug = 'train_aug'\n",
        "test_aug = 'test_aug'\n",
        "os.mkdir(train_aug)\n",
        "os.mkdir(test_aug)"
      ],
      "execution_count": 0,
      "outputs": []
    },
    {
      "cell_type": "code",
      "metadata": {
        "id": "z7_mnXsMJFRT",
        "colab_type": "code",
        "outputId": "f4d29459-579b-4b5c-ebae-dec4a8219807",
        "colab": {
          "base_uri": "https://localhost:8080/",
          "height": 222
        }
      },
      "source": [
        "# Freeze the layers which you don't want to train. Here I am freezing the all the layers.\n",
        "for layer in vgg16.layers[:11]:\n",
        "    layer.trainable = False\n",
        "\n",
        "# Adding custom Layers \n",
        "x = vgg16.output\n",
        "x = Flatten()(x)\n",
        "x = Dense(1024, activation = \"relu\")(x)\n",
        "x = Dropout(0.5)(x)\n",
        "x = Dense(512, activation = \"relu\")(x)\n",
        "x = Dropout(0.5)(x)\n",
        "predictions = Dense(2, activation = \"softmax\")(x)\n",
        "\n",
        "# creating the final model \n",
        "vgg16_final = Model(input = vgg16.input, output = predictions)\n",
        "\n",
        "# compile the model\n",
        "sgd = optimizers.SGD(lr=0.001, momentum=0.0, decay=0.0, nesterov=False)\n",
        "# rmsprop = optimizers.RMSprop(lr=0.0001, rho=0.9, epsilon=None, decay=0.0)\n",
        "# adagrad = optimizers.Adagrad(lr=0.0001, epsilon=None, decay=0.0)\n",
        "# adam = optimizers.Adam(lr=0.0001, beta_1=0.9, beta_2=0.999, epsilon=None, decay=0.0, amsgrad=False)\n",
        "vgg16_final.compile(loss = \"binary_crossentropy\", optimizer = sgd, metrics = [\"accuracy\"])\n",
        "\n",
        "# Initiate the train and test generators with data Augumentation \n",
        "train_datagen = ImageDataGenerator(\n",
        "                rescale = 1./255,\n",
        "                horizontal_flip = True,\n",
        "                fill_mode = \"nearest\",\n",
        "                zoom_range = 0.3,\n",
        "                width_shift_range = 0.3,\n",
        "                height_shift_range = 0.3,\n",
        "                rotation_range = 30)\n",
        "\n",
        "train_generator = train_datagen.flow_from_directory(\n",
        "                  train_data_dir,\n",
        "                  target_size = (img_height, img_width),\n",
        "                  batch_size = batch_size, \n",
        "                  class_mode = \"categorical\", shuffle = False,\n",
        "                  save_to_dir=train_aug, save_prefix='image', save_format='png')\n",
        "\n",
        "test_datagen = ImageDataGenerator(\n",
        "                rescale = 1./255,\n",
        "                horizontal_flip = True,\n",
        "                fill_mode = \"nearest\",\n",
        "                zoom_range = 0.3,\n",
        "                width_shift_range = 0.3,\n",
        "                height_shift_range = 0.3,\n",
        "                rotation_range = 30\n",
        "                )\n",
        "\n",
        "test_generator = test_datagen.flow_from_directory(test_data_dir,\n",
        "                                            target_size = (img_height, img_width),\n",
        "                                            class_mode = \"categorical\", shuffle = False,\n",
        "                                            save_to_dir=test_aug, save_prefix='image', save_format='png')\n",
        "\n",
        "\n",
        "# Save the model according to the conditions  \n",
        "checkpoint = ModelCheckpoint('saved/weights.{epoch:02d}-{val_loss:.2f}.h5', monitor = 'val_loss', verbose = 1, save_best_only = True, save_weights_only = False, mode = 'auto', period = 1)\n",
        "# early = EarlyStopping(monitor = 'val_loss', min_delta = 0, patience = 10, verbose = 1, mode = 'auto')\n",
        "\n",
        "\n",
        "# Train the model\n",
        "# vgg16_final.fit_generator(train_generator,\n",
        "#                           samples_per_epoch = nb_train_samples,\n",
        "#                           epochs = epochs,\n",
        "#                           validation_data = test_generator,\n",
        "#                           nb_val_samples = nb_validation_samples,\n",
        "#                           callbacks = [checkpoint, early])\n",
        "\n",
        "vgg16_final.fit_generator(train_generator,\n",
        "                          samples_per_epoch = nb_train_samples,\n",
        "                          epochs = epochs,\n",
        "                          validation_data = test_generator,\n",
        "                          nb_val_samples = nb_validation_samples,\n",
        "                          callbacks = [checkpoint])"
      ],
      "execution_count": 0,
      "outputs": [
        {
          "output_type": "stream",
          "text": [
            "/usr/local/lib/python3.6/dist-packages/ipykernel_launcher.py:14: UserWarning: Update your `Model` call to the Keras 2 API: `Model(inputs=Tensor(\"in..., outputs=Tensor(\"de...)`\n",
            "  \n"
          ],
          "name": "stderr"
        },
        {
          "output_type": "stream",
          "text": [
            "Found 135 images belonging to 2 classes.\n",
            "Found 35 images belonging to 2 classes.\n"
          ],
          "name": "stdout"
        },
        {
          "output_type": "stream",
          "text": [
            "/usr/local/lib/python3.6/dist-packages/ipykernel_launcher.py:66: UserWarning: The semantics of the Keras 2 argument `steps_per_epoch` is not the same as the Keras 1 argument `samples_per_epoch`. `steps_per_epoch` is the number of batches to draw from the generator at each epoch. Basically steps_per_epoch = samples_per_epoch/batch_size. Similarly `nb_val_samples`->`validation_steps` and `val_samples`->`steps` arguments have changed. Update your method calls accordingly.\n",
            "/usr/local/lib/python3.6/dist-packages/ipykernel_launcher.py:66: UserWarning: Update your `fit_generator` call to the Keras 2 API: `fit_generator(<keras_pre..., epochs=1, validation_data=<keras_pre..., callbacks=[<keras.ca..., steps_per_epoch=27, validation_steps=35)`\n"
          ],
          "name": "stderr"
        },
        {
          "output_type": "stream",
          "text": [
            "Epoch 1/1\n",
            "27/27 [==============================] - 23s 853ms/step - loss: 1.3079 - acc: 0.5037 - val_loss: 2.0708 - val_acc: 0.5997\n",
            "\n",
            "Epoch 00001: val_loss improved from inf to 2.07079, saving model to saved/weights.01-2.07.h5\n"
          ],
          "name": "stdout"
        },
        {
          "output_type": "execute_result",
          "data": {
            "text/plain": [
              "<keras.callbacks.History at 0x7f0364982b38>"
            ]
          },
          "metadata": {
            "tags": []
          },
          "execution_count": 30
        }
      ]
    },
    {
      "cell_type": "code",
      "metadata": {
        "id": "Wvn9FFANFjSz",
        "colab_type": "code",
        "colab": {}
      },
      "source": [
        "# # Loading the trained model\n",
        "# vgg16_final = load_model('saved/weights.08-1.57.h5')"
      ],
      "execution_count": 0,
      "outputs": []
    },
    {
      "cell_type": "code",
      "metadata": {
        "id": "nEbbYom3JPBE",
        "colab_type": "code",
        "colab": {}
      },
      "source": [
        "score, acc = vgg16_final.evaluate_generator(test_generator, verbose = 0)"
      ],
      "execution_count": 0,
      "outputs": []
    },
    {
      "cell_type": "code",
      "metadata": {
        "id": "7GvRGoH2M3a2",
        "colab_type": "code",
        "outputId": "d692e247-b73d-4ff0-9820-45ad462fe3af",
        "colab": {
          "base_uri": "https://localhost:8080/",
          "height": 34
        }
      },
      "source": [
        "score"
      ],
      "execution_count": 0,
      "outputs": [
        {
          "output_type": "execute_result",
          "data": {
            "text/plain": [
              "1.5807531127972263"
            ]
          },
          "metadata": {
            "tags": []
          },
          "execution_count": 51
        }
      ]
    },
    {
      "cell_type": "code",
      "metadata": {
        "id": "RwyrFLQuNC4A",
        "colab_type": "code",
        "outputId": "fea19209-67a5-42ab-ee15-5d2e0ecd1bf2",
        "colab": {
          "base_uri": "https://localhost:8080/",
          "height": 34
        }
      },
      "source": [
        "print('Test Accuracy: {}%' .format(acc * 100))"
      ],
      "execution_count": 0,
      "outputs": [
        {
          "output_type": "stream",
          "text": [
            "Test Accuracy: 71.42857142857143%\n"
          ],
          "name": "stdout"
        }
      ]
    },
    {
      "cell_type": "markdown",
      "metadata": {
        "id": "EII0m9tcyDjN",
        "colab_type": "text"
      },
      "source": [
        "# Confusion Matrix"
      ]
    },
    {
      "cell_type": "code",
      "metadata": {
        "id": "HeC5IThOyGXD",
        "colab_type": "code",
        "outputId": "262b0451-8226-47fb-bbae-f330f1ff7893",
        "colab": {
          "base_uri": "https://localhost:8080/",
          "height": 101
        }
      },
      "source": [
        "# Confusion Matrix and Classification Report\n",
        "Y_pred = vgg16_final.predict_generator(test_generator)\n",
        "y_pred = np.argmax(Y_pred, axis=1)\n",
        "print('Confusion Matrix')\n",
        "cm = metrics.confusion_matrix(test_generator.classes, y_pred)\n",
        "print(cm)\n",
        "acc = 100 * (cm[0][0] + cm[1][1]) / (cm[0][0] + cm[1][1] + cm[0][1] + cm[1][0])\n",
        "print('\\nAccuracy: ', acc, '%')"
      ],
      "execution_count": 0,
      "outputs": [
        {
          "output_type": "stream",
          "text": [
            "Confusion Matrix\n",
            "[[11  4]\n",
            " [ 6 14]]\n",
            "\n",
            "Accuracy:  71.42857142857143 %\n"
          ],
          "name": "stdout"
        }
      ]
    },
    {
      "cell_type": "code",
      "metadata": {
        "id": "r5MFKzhXBTHY",
        "colab_type": "code",
        "outputId": "9817aacf-3bdf-4165-8148-f681dee260df",
        "colab": {
          "base_uri": "https://localhost:8080/",
          "height": 50
        }
      },
      "source": [
        "test_generator.classes"
      ],
      "execution_count": 0,
      "outputs": [
        {
          "output_type": "execute_result",
          "data": {
            "text/plain": [
              "array([0, 0, 0, 0, 0, 0, 0, 0, 0, 0, 0, 0, 0, 0, 0, 1, 1, 1, 1, 1, 1, 1,\n",
              "       1, 1, 1, 1, 1, 1, 1, 1, 1, 1, 1, 1, 1], dtype=int32)"
            ]
          },
          "metadata": {
            "tags": []
          },
          "execution_count": 54
        }
      ]
    },
    {
      "cell_type": "code",
      "metadata": {
        "id": "_a1GvJAdBUqM",
        "colab_type": "code",
        "outputId": "e4190400-934d-40f2-e1e4-6aef9d37060a",
        "colab": {
          "base_uri": "https://localhost:8080/",
          "height": 50
        }
      },
      "source": [
        "y_pred"
      ],
      "execution_count": 0,
      "outputs": [
        {
          "output_type": "execute_result",
          "data": {
            "text/plain": [
              "array([0, 0, 0, 0, 0, 1, 1, 1, 0, 0, 0, 0, 1, 0, 0, 1, 1, 1, 0, 0, 1, 1,\n",
              "       1, 1, 0, 0, 0, 1, 1, 1, 0, 1, 1, 1, 1])"
            ]
          },
          "metadata": {
            "tags": []
          },
          "execution_count": 55
        }
      ]
    }
  ]
}